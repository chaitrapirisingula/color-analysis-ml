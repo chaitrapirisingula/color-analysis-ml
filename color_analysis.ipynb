{
 "cells": [
  {
   "cell_type": "code",
   "execution_count": 8,
   "metadata": {},
   "outputs": [],
   "source": [
    "# Chaitra Pirisingula\n",
    "# Shruti Pradeep\n",
    "# 04/10/2023 "
   ]
  },
  {
   "cell_type": "code",
   "execution_count": 9,
   "metadata": {},
   "outputs": [],
   "source": [
    "from ColorBlindnessAnalysis import simulate_colorblindness, get_colors, get_color_similarity_scores, display_charts\n",
    "import numpy as np\n",
    "import cv2"
   ]
  },
  {
   "cell_type": "code",
   "execution_count": 10,
   "metadata": {},
   "outputs": [],
   "source": [
    "# This matrix simulates protanopia, one of the most common forms of color blindness (Red-blind)\n",
    "protanopia_simulation_matrix = np.array([[0.567, 0.433, 0],\n",
    "                                [0.558, 0.442, 0],\n",
    "                                [0, 0.242, 0.758]])\n",
    "\n",
    "# This matrix simulates deuteranopia, another common form of color blindness (Green-blind)\n",
    "deuteranopia_simulation_matrix = np.array([[0.625, 0.375, 0],\n",
    "                                [0.7, 0.3, 0],\n",
    "                                [0, 0.3, 0.7]])\n",
    "\n",
    "# This matrix simulates tritanopia, a rare form of color blindness (Blue-yellow)\n",
    "tritanopia_simulation_matrix = np.array([[0.95, 0.05, 0],\n",
    "                                [0, 0.433, 0.567],\n",
    "                                [0, 0.475, 0.525]])\n",
    "\n",
    "protanomaly_simulation_matrix = np.array([[0.817,0.183,0.000],\n",
    "                                [0.333,0.667,0.000],\n",
    "                                [0.000,0.125,0.875]])\n",
    "\n",
    "deuteranomaly_simulation_matrix = np.array([[0.800,0.200,0.000],\n",
    "                                [0.258,0.742,0.000],\n",
    "                                [0.000,0.142,0.858]])\n",
    "\n",
    "tritanomaly_simulation_matrix = np.array([[0.967,0.033,0.00],\n",
    "                                [0.00,0.733,0.267],\n",
    "                                [0.00,0.183,0.817]])\n",
    "\n",
    "achromatopsia_simulation_matrix = np.array([[0.299,0.587,0.114],\n",
    "                                [0.299,0.587,0.114],\n",
    "                                [0.299,0.587,0.114]])\n",
    "\n",
    "achromatomaly_simulation_matrix = np.array([[0.618,0.320,0.062],\n",
    "                                [0.163,0.775,0.062],\n",
    "                                [0.163,0.320,0.516]])\n",
    "\n",
    "cb_masks = [protanopia_simulation_matrix, deuteranopia_simulation_matrix, tritanopia_simulation_matrix]\n",
    "cb_names = [\"Protanopia\", \"Deuteranopia\", \"Tritanopia\"]"
   ]
  },
  {
   "cell_type": "code",
   "execution_count": null,
   "metadata": {},
   "outputs": [],
   "source": [
    "# Load original image\n",
    "image = cv2.imread('images/candy.png')\n",
    "image = cv2.cvtColor(image, cv2.COLOR_BGR2RGB)\n",
    "\n",
    "# Get original colors and corresponding colorblindness colors with delta e scores\n",
    "original_colors = get_colors(image, 10, \"Original\")\n",
    "cb_scores = get_color_similarity_scores(original_colors, cb_names, cb_masks)"
   ]
  },
  {
   "cell_type": "code",
   "execution_count": null,
   "metadata": {},
   "outputs": [],
   "source": [
    "# Simulate Protanopia and display results \n",
    "protanopia_image = simulate_colorblindness(protanopia_simulation_matrix, image)\n",
    "protanopia_colors = get_colors(protanopia_image, 10, cb_names[0])\n",
    "display_charts(cb_names[0], cb_scores[cb_names[0]])"
   ]
  },
  {
   "cell_type": "code",
   "execution_count": null,
   "metadata": {},
   "outputs": [],
   "source": [
    "# Simulate Deuteranopia and display results \n",
    "deuteranopia_image = simulate_colorblindness(deuteranopia_simulation_matrix, image)\n",
    "deuteranopia_colors = get_colors(deuteranopia_image, 10, cb_names[1])\n",
    "display_charts(cb_names[1], cb_scores[cb_names[1]])"
   ]
  },
  {
   "cell_type": "code",
   "execution_count": null,
   "metadata": {},
   "outputs": [],
   "source": [
    "# Simulate Tritanopia and display results \n",
    "tritanopia_image = simulate_colorblindness(tritanopia_simulation_matrix, image)\n",
    "tritanopia_colors = get_colors(tritanopia_image, 10, cb_names[2])\n",
    "display_charts(cb_names[2], cb_scores[cb_names[2]])"
   ]
  }
 ],
 "metadata": {
  "kernelspec": {
   "display_name": "Python 3",
   "language": "python",
   "name": "python3"
  },
  "language_info": {
   "codemirror_mode": {
    "name": "ipython",
    "version": 3
   },
   "file_extension": ".py",
   "mimetype": "text/x-python",
   "name": "python",
   "nbconvert_exporter": "python",
   "pygments_lexer": "ipython3",
   "version": "3.10.6"
  },
  "orig_nbformat": 4
 },
 "nbformat": 4,
 "nbformat_minor": 2
}
